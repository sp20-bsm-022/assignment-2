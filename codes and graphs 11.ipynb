{
 "cells": [
  {
   "cell_type": "code",
   "execution_count": 22,
   "id": "0135ad65",
   "metadata": {},
   "outputs": [],
   "source": [
    "import numpy as np\n",
    "import matplotlib.pyplot as plt\n",
    "import math as mt"
   ]
  },
  {
   "cell_type": "markdown",
   "id": "db99cae0",
   "metadata": {},
   "source": [
    "# bisection method for x**3-5*x-9"
   ]
  },
  {
   "cell_type": "code",
   "execution_count": 2,
   "id": "73419d93",
   "metadata": {},
   "outputs": [
    {
     "name": "stdout",
     "output_type": "stream",
     "text": [
      "first guess: 2\n",
      "second guess: 3\n",
      "tolerance: 0.001\n",
      "iteration 1, x2 = 2.500000 and f(x2)= -5.875000\n",
      "iteration 2, x2 = 2.750000 and f(x2)= -1.953125\n",
      "iteration 3, x2 = 2.875000 and f(x2)= 0.388672\n",
      "iteration 4, x2 = 2.812500 and f(x2)= -0.815186\n",
      "iteration 5, x2 = 2.843750 and f(x2)= -0.221588\n",
      "iteration 6, x2 = 2.859375 and f(x2)= 0.081448\n",
      "iteration 7, x2 = 2.851562 and f(x2)= -0.070592\n",
      "iteration 8, x2 = 2.855469 and f(x2)= 0.005297\n",
      "iteration 9, x2 = 2.853516 and f(x2)= -0.032680\n",
      "iteration 10, x2 = 2.854492 and f(x2)= -0.013700\n",
      "iteration 11, x2 = 2.854980 and f(x2)= -0.004204\n",
      "iteration 12, x2 = 2.855225 and f(x2)= 0.000546\n",
      "root is :2.85522461 \n"
     ]
    }
   ],
   "source": [
    "a# guess1 = 2, guess2 = 3\n",
    "from math import sin \n",
    "def bisection(x0,x1,e): #bisection method, it will put 1st value second value , e for tolerance\n",
    "    step = 1\n",
    "    condition = True #  condition is true \n",
    "    while condition: # run statement under as long as test expression is true\n",
    "        x2 = (x0+x1)/2 # find the mean value and assign value to x2\n",
    "        print('iteration %d, x2 = %0.6f and f(x2)= %0.6f' %(step,x2,f(x2))) # print iteration,x2 and funtion value at x2\n",
    "        \n",
    "        if f(x0) * f(x2) < 0: # if multiplication of values function at x0 and x2 is les than zero then select these points\n",
    "            x1 = x2  # now x2 value assign to x1\n",
    "        else:\n",
    "            x0 = x2 # but if condition is not true then x2 assign to x1 and select x0 and x1\n",
    "        step = step +1 # adding iteration until contion is true\n",
    "        condition = abs(f(x2)) > e \n",
    "    print('root is :%0.8f '%x2) \n",
    "#    return x2\n",
    "\n",
    "def f(x): \n",
    "    return x**3-5*x-9\n",
    "\n",
    "x0 = float(input('first guess: '))  # first guess \n",
    "x1 = float(input('second guess: ')) # second guess \n",
    "e  = float(input('tolerance: ')) # it shows tolerance ,hoe much we close to root\n",
    "\n",
    "if f(x0) * f(x1) > 0.0: # if multiplication of function values at x0 and x1 is positive \n",
    "    print('given guess values do not bracket the root') #  print root dont bracket the root\n",
    "else:\n",
    "    root = bisection(x0,x1,e) # if above condition is not true compiler will go to the step at above"
   ]
  },
  {
   "cell_type": "code",
   "execution_count": 24,
   "id": "d0b86165",
   "metadata": {},
   "outputs": [
    {
     "data": {
      "text/plain": [
       "Text(0, 0.5, 'y-axis')"
      ]
     },
     "execution_count": 24,
     "metadata": {},
     "output_type": "execute_result"
    },
    {
     "data": {
      "image/png": "[encoded data removed]",
      "text/plain": [
       "<Figure size 432x288 with 1 Axes>"
      ]
     },
     "metadata": {
      "needs_background": "light"
     },
     "output_type": "display_data"
    }
   ],
   "source": [
    "x = np.linspace(2,3,100)\n",
    "y = x**3-5*x-9\n",
    "plt.plot(x,y)\n",
    "plt.grid()\n",
    "plt.xlabel('x-axis',fontsize=15)\n",
    "plt.ylabel('y-axis',fontsize=15)"
   ]
  },
  {
   "cell_type": "markdown",
   "id": "8e5f862d",
   "metadata": {},
   "source": [
    "# newton raphson methhod for 2*x**3-9.5*x+7.5"
   ]
  },
  {
   "cell_type": "code",
   "execution_count": 19,
   "id": "bc11c4a1",
   "metadata": {},
   "outputs": [
    {
     "name": "stdout",
     "output_type": "stream",
     "text": [
      "the root is 1.500 at 7 iterations.\n"
     ]
    }
   ],
   "source": [
    "from math import sin\n",
    "def newton(fn,dfn,x,tol,maxiter):# newton method input function, derivative of function,initial guess, tolerance , maximum iteration\n",
    "    for i in range(maxiter):\n",
    "        xnew = x - fn(x)/dfn(x) #  calculated value and assign to xnew \n",
    "        if abs(xnew-x)<tol:# if error is leass than tolerance                         \n",
    "            break if  \n",
    "        x = xnew # xnew assign to x\n",
    "    return xnew, i \n",
    "\n",
    "y = lambda x: 2*x**3-9.5*x+7.5 # this is function value \n",
    "dy = lambda x : 6*x**2-9.5 # this is derivative\n",
    "\n",
    "x, n = newton(y, dy, 5, 0.0001, 100) # values assign and it will assign to above variable in defination\n",
    "print('the root is %.3f at %d iterations.'%(x,n)) # print root is x and at iteration is n"
   ]
  },
  {
   "cell_type": "code",
   "execution_count": 30,
   "id": "20e8507a",
   "metadata": {},
   "outputs": [
    {
     "data": {
      "text/plain": [
       "Text(0, 0.5, 'y-axis')"
      ]
     },
     "execution_count": 30,
     "metadata": {},
     "output_type": "execute_result"
    },
    {
     "data": {
      "image/png": "[encoded data removed]",
      "text/plain": [
       "<Figure size 432x288 with 1 Axes>"
      ]
     },
     "metadata": {
      "needs_background": "light"
     },
     "output_type": "display_data"
    }
   ],
   "source": [
    "x = np.linspace(0,5,100) # at xaxis y calculate value from 0 to 5 and there will 100 numbers on which function find values and plot point on graph\n",
    "y = 2*x**3-9.5*x+7.5 \n",
    "plt.plot(x,y)\n",
    "plt.grid()\n",
    "plt.xlabel('x-axis',fontsize=15)\n",
    "plt.ylabel('y-axis',fontsize=15)"
   ]
  },
  {
   "cell_type": "markdown",
   "id": "1513a1f4",
   "metadata": {},
   "source": [
    "# regula false method for  x**2 - sin(x)**2 - 4*x + 1"
   ]
  },
  {
   "cell_type": "code",
   "execution_count": 27,
   "id": "12999717",
   "metadata": {},
   "outputs": [
    {
     "name": "stdout",
     "output_type": "stream",
     "text": [
      "enter x1: 0\n",
      "enter x2: 1\n",
      "The root = 0.250324 at 4 false position\n"
     ]
    }
   ],
   "source": [
    "\n",
    "def reg_falsi(f,x1,x2,tol=1.0e-6,maxfpos=100):# regula false method accept value from below\n",
    "    \n",
    "    if f(x1) * f(x2)<0: # it shows if multiplication of function value at x1 and x2 is leass than 0 then preceed to values under this statemnt \n",
    "        for fpos in range(1,maxfpos+1): \n",
    "            xh = x2 - (x2-x1)/(f(x2)-f(x1)) * f(x2) # finding root value and assign to xh\n",
    "            if abs(f(xh)) < tol: # if value of function at xh is less than tolerance then proceed to values that is u der if statement#\n",
    "                break \n",
    "            elif f(x1) * f(xh) < 0: # multiplication of function values is leass than zero then proceed to values that is u der if statement\n",
    "                x2 = xh # xh assign to x2\n",
    "            else:\n",
    "                x1 = xh  xh assign to x1 ,now function go to to finding xh \n",
    "    else:\n",
    "        print('No roots exists within the given interval') # f(x1) * f(xh) < 0 if not this then compiler print this\n",
    "        \n",
    "    return xh, fpos\n",
    "\n",
    "y = lambda x: x**2 - sin(x)**2 - 4*x + 1 # function value\n",
    "\n",
    "x1 = float(input('enter x1: ')) # input float x1 \n",
    "x2 = float(input('enter x2: ')) # input float x2 \n",
    "\n",
    "r, n = reg_falsi(y,x1,x2) \n",
    "print('The root = %f at %d false position'%(r,n)) # give output of function r is root and n is iteration number"
   ]
  },
  {
   "cell_type": "code",
   "execution_count": 26,
   "id": "0d164e81",
   "metadata": {},
   "outputs": [
    {
     "ename": "TypeError",
     "evalue": "only size-1 arrays can be converted to Python scalars",
     "output_type": "error",
     "traceback": [
      "\u001b[1;31m---------------------------------------------------------------------------\u001b[0m",
      "\u001b[1;31mTypeError\u001b[0m                                 Traceback (most recent call last)",
      "\u001b[1;32mC:\\Users\\PCPLAN~1\\AppData\\Local\\Temp/ipykernel_12064/3835429495.py\u001b[0m in \u001b[0;36m<module>\u001b[1;34m\u001b[0m\n\u001b[0;32m      1\u001b[0m \u001b[0mx\u001b[0m \u001b[1;33m=\u001b[0m \u001b[0mnp\u001b[0m\u001b[1;33m.\u001b[0m\u001b[0mlinspace\u001b[0m\u001b[1;33m(\u001b[0m\u001b[1;36m0\u001b[0m\u001b[1;33m,\u001b[0m\u001b[1;36m1\u001b[0m\u001b[1;33m,\u001b[0m\u001b[1;36m100\u001b[0m\u001b[1;33m)\u001b[0m\u001b[1;33m\u001b[0m\u001b[1;33m\u001b[0m\u001b[0m\n\u001b[1;32m----> 2\u001b[1;33m \u001b[0my\u001b[0m \u001b[1;33m=\u001b[0m \u001b[0mx\u001b[0m\u001b[1;33m**\u001b[0m\u001b[1;36m2\u001b[0m \u001b[1;33m-\u001b[0m \u001b[0msin\u001b[0m\u001b[1;33m(\u001b[0m\u001b[0mx\u001b[0m\u001b[1;33m)\u001b[0m\u001b[1;33m**\u001b[0m\u001b[1;36m2\u001b[0m \u001b[1;33m-\u001b[0m \u001b[1;36m4\u001b[0m\u001b[1;33m*\u001b[0m\u001b[0mx\u001b[0m \u001b[1;33m+\u001b[0m \u001b[1;36m1\u001b[0m\u001b[1;33m\u001b[0m\u001b[1;33m\u001b[0m\u001b[0m\n\u001b[0m\u001b[0;32m      3\u001b[0m \u001b[0mplt\u001b[0m\u001b[1;33m.\u001b[0m\u001b[0mplot\u001b[0m\u001b[1;33m(\u001b[0m\u001b[0mx\u001b[0m\u001b[1;33m,\u001b[0m\u001b[0my\u001b[0m\u001b[1;33m)\u001b[0m\u001b[1;33m\u001b[0m\u001b[1;33m\u001b[0m\u001b[0m\n\u001b[0;32m      4\u001b[0m \u001b[0mplt\u001b[0m\u001b[1;33m.\u001b[0m\u001b[0mgrid\u001b[0m\u001b[1;33m(\u001b[0m\u001b[1;33m)\u001b[0m\u001b[1;33m\u001b[0m\u001b[1;33m\u001b[0m\u001b[0m\n\u001b[0;32m      5\u001b[0m \u001b[0mplt\u001b[0m\u001b[1;33m.\u001b[0m\u001b[0mxlabel\u001b[0m\u001b[1;33m(\u001b[0m\u001b[1;34m'x-axis'\u001b[0m\u001b[1;33m,\u001b[0m\u001b[0mfontsize\u001b[0m\u001b[1;33m=\u001b[0m\u001b[1;36m15\u001b[0m\u001b[1;33m)\u001b[0m\u001b[1;33m\u001b[0m\u001b[1;33m\u001b[0m\u001b[0m\n",
      "\u001b[1;31mTypeError\u001b[0m: only size-1 arrays can be converted to Python scalars"
     ]
    }
   ],
   "source": [
    "x = np.linspace(0,1,100) # at xaxis y calculate value from 0 to 1 and there will 100 numbers on which function find values and plot point on graph\n",
    "y = x**2 - sin(x)**2 - 4*x + 1\n",
    "plt.plot(x,y)\n",
    "plt.grid()\n",
    "plt.xlabel('x-axis',fontsize=15)\n",
    "plt.ylabel('y-axis',fontsize=15)"
   ]
  },
  {
   "cell_type": "markdown",
   "id": "b0e59e09",
   "metadata": {},
   "source": [
    "# secant method for 2*x**2 - 5*x + 3 "
   ]
  },
  {
   "cell_type": "code",
   "execution_count": 7,
   "id": "6e10b728",
   "metadata": {},
   "outputs": [
    {
     "name": "stdout",
     "output_type": "stream",
     "text": [
      "enter x1: -2\n",
      "enter x2: 2\n",
      "Root = 1.500000 at 8 iterations\n"
     ]
    }
   ],
   "source": [
    "from math import sin\n",
    "def secant(fn,x1,x2,tol,maxiter): # secant method take values of function, x1 , x2 ,tolerance and maxitor\n",
    "    for i in range(maxiter):\n",
    "        xnew  = x2 - (x2-x1)/(fn(x2)-fn(x1))*fn(x2) # this will calculate root and assign to xnew\n",
    "        if abs(xnew-x2) < tol: #\n",
    "            break\n",
    "        else:\n",
    "            x1 = x2\n",
    "            x2 = xnew\n",
    "    else:\n",
    "        print('warning: Maximum number of iterations is reached')\n",
    "    return xnew, i\n",
    "\n",
    "f = lambda x: 2*x**2 - 5*x + 3 # funtion\n",
    "\n",
    "x1 = float(input('enter x1: ')) # input value from user\n",
    "x2 = float(input('enter x2: '))\n",
    "\n",
    "r, n = secant(f,x1,x2,1.0e-6,100) # secant function \n",
    "\n",
    "print('Root = %f at %d iterations'%(r,n)) # print root and iteration"
   ]
  },
  {
   "cell_type": "code",
   "execution_count": 28,
   "id": "bcc72d46",
   "metadata": {},
   "outputs": [
    {
     "data": {
      "text/plain": [
       "Text(0, 0.5, 'y-axis')"
      ]
     },
     "execution_count": 28,
     "metadata": {},
     "output_type": "execute_result"
    },
    {
     "data": {
      "image/png": "[encoded data removed]",
      "text/plain": [
       "<Figure size 432x288 with 1 Axes>"
      ]
     },
     "metadata": {
      "needs_background": "light"
     },
     "output_type": "display_data"
    }
   ],
   "source": [
    "x = np.linspace(-2,2,100)\n",
    "y =  2*x**2 - 5*x + 3 \n",
    "plt.plot(x,y)\n",
    "plt.grid()\n",
    "plt.xlabel('x-axis',fontsize=15)\n",
    "plt.ylabel('y-axis',fontsize=15)"
   ]
  },
  {
   "cell_type": "code",
   "execution_count": null,
   "id": "0833b32d",
   "metadata": {},
   "outputs": [],
   "source": []
  }
 ],
 "metadata": {
  "kernelspec": {
   "display_name": "Python 3 (ipykernel)",
   "language": "python",
   "name": "python3"
  },
  "language_info": {
   "codemirror_mode": {
    "name": "ipython",
    "version": 3
   },
   "file_extension": ".py",
   "mimetype": "text/x-python",
   "name": "python",
   "nbconvert_exporter": "python",
   "pygments_lexer": "ipython3",
   "version": "3.9.7"
  }
 },
 "nbformat": 4,
 "nbformat_minor": 5
}
